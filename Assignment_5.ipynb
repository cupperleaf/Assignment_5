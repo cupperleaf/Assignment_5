{
 "cells": [
  {
   "cell_type": "markdown",
   "id": "1a320c4f-8cab-4eeb-9ff8-bb742fa00a1c",
   "metadata": {},
   "source": [
    "Q1) Create a vehicle class with an init method having instance variables as name_of_vehicle, max_speed and average_of_vehicle."
   ]
  },
  {
   "cell_type": "code",
   "execution_count": 56,
   "id": "c092340f-606c-4b76-ad38-b2950db2c449",
   "metadata": {},
   "outputs": [],
   "source": [
    "class Vehicle:\n",
    "    def __init__(self, name_of_vehicle, max_speed, average_of_vehicle):\n",
    "        self.name_of_vehicle = name_of_vehicle\n",
    "        self.max_speed = max_speed\n",
    "        self.average_of_vehicle = average_of_vehicle\n",
    "        \n",
    "    def vehicle_information(self):\n",
    "        return self.name_of_vehicle, self.max_speed, self.average_of_vehicle"
   ]
  },
  {
   "cell_type": "code",
   "execution_count": null,
   "id": "d7109db0-f7bd-4339-b6ad-cacbe1d55157",
   "metadata": {},
   "outputs": [],
   "source": []
  },
  {
   "cell_type": "markdown",
   "id": "ae0206d8-04d7-43c5-ad14-4ab180007db9",
   "metadata": {},
   "source": [
    "Q2) Create a child class car from the vehicle class created in Que 1, which will inherit the vehicle class.\n",
    "Create a method named seating_capacity which takes capacity as an argument and returns the name of the vehicle and its seating capacity."
   ]
  },
  {
   "cell_type": "code",
   "execution_count": 52,
   "id": "520f8127-4222-4ccd-b6b7-3d905a62a76e",
   "metadata": {},
   "outputs": [],
   "source": [
    "class Vehicle:\n",
    "    def __init__(self, name_of_vehicle, max_speed, average_of_vehicle):\n",
    "        self.name_of_vehicle = name_of_vehicle\n",
    "        self.max_speed = max_speed\n",
    "        self.average_of_vehicle = average_of_vehicle\n",
    "        \n",
    "    def vehicle_information(self):\n",
    "        return self.name_of_vehicle\n",
    "        \n",
    "class car(Vehicle):\n",
    "    name_of_vehicle = \"TATA\"\n",
    "    def __init__(self, name_of_vehicle, seating_capacity):\n",
    "        self.seating_capacity = seating_capacity\n",
    "        \n",
    "    def return_student_detail(self):\n",
    "        return self.name_of_vehicle , self.seating_capacity"
   ]
  },
  {
   "cell_type": "code",
   "execution_count": 54,
   "id": "9276af02-ee15-4752-9308-478eb889f93b",
   "metadata": {},
   "outputs": [],
   "source": [
    "vehicle_info = car(\"TATA\" , 51)"
   ]
  },
  {
   "cell_type": "code",
   "execution_count": 55,
   "id": "3931e640-4c94-47cc-a39e-60d80af34519",
   "metadata": {},
   "outputs": [
    {
     "data": {
      "text/plain": [
       "('TATA', 51)"
      ]
     },
     "execution_count": 55,
     "metadata": {},
     "output_type": "execute_result"
    }
   ],
   "source": [
    "vehicle_info.return_student_detail()"
   ]
  },
  {
   "cell_type": "code",
   "execution_count": null,
   "id": "8aef3bc5-c470-40fc-899d-247a08236a1d",
   "metadata": {},
   "outputs": [],
   "source": []
  },
  {
   "cell_type": "markdown",
   "id": "9518b3db-58ab-4ee8-8b48-0fdf1fe2c8e3",
   "metadata": {},
   "source": [
    "Q3) What is multiple inheritance? Write a python code to demonstrate multiple inheritance."
   ]
  },
  {
   "cell_type": "code",
   "execution_count": 60,
   "id": "aee9d7c5-55b8-4094-a7b3-41c8c82e2492",
   "metadata": {},
   "outputs": [],
   "source": [
    "# When a class is derived from more than one base class it is called multiple Inheritance. The derived class inherits all the features of the base case.\n",
    "class child_class1:\n",
    "    def child1(self):\n",
    "        return(\"This is 1st inheritance class\")\n",
    "        \n",
    "class child_class2:\n",
    "    def child2(self):\n",
    "        return(\"This is 2nd inheritance class\")\n",
    "        \n",
    "class parent(child_class1,child_class2):\n",
    "    pass"
   ]
  },
  {
   "cell_type": "code",
   "execution_count": 61,
   "id": "e21d8dc7-29f2-431d-83d6-a2b26d9de791",
   "metadata": {},
   "outputs": [],
   "source": [
    "obj_parent = parent()"
   ]
  },
  {
   "cell_type": "code",
   "execution_count": 63,
   "id": "6e2ecbad-f1da-4150-84e9-2784bb97f509",
   "metadata": {},
   "outputs": [
    {
     "data": {
      "text/plain": [
       "'This is 1st inheritance class'"
      ]
     },
     "execution_count": 63,
     "metadata": {},
     "output_type": "execute_result"
    }
   ],
   "source": [
    "obj_parent.child1()"
   ]
  },
  {
   "cell_type": "code",
   "execution_count": 64,
   "id": "188fbaa8-0ebc-48d3-a127-b8f9fdbcfb1f",
   "metadata": {},
   "outputs": [
    {
     "data": {
      "text/plain": [
       "'This is 2nd inheritance class'"
      ]
     },
     "execution_count": 64,
     "metadata": {},
     "output_type": "execute_result"
    }
   ],
   "source": [
    "obj_parent.child2()"
   ]
  },
  {
   "cell_type": "code",
   "execution_count": null,
   "id": "d2e107f3-be2d-4b38-8a25-8db15b4b2923",
   "metadata": {},
   "outputs": [],
   "source": []
  },
  {
   "cell_type": "markdown",
   "id": "d4dd5172-ed9c-48b4-9398-b7ffc5d5dddb",
   "metadata": {},
   "source": [
    "Q4) What are getter and setter in python? Create a class and create a getter and a setter method in this\n",
    "class."
   ]
  },
  {
   "cell_type": "code",
   "execution_count": 5,
   "id": "5a04fe3c-8c51-4bdb-8de4-56a83138d8c5",
   "metadata": {},
   "outputs": [],
   "source": [
    "# the main purpose of using getters and setters in object-oriented programs is to ensure data encapsulation.\n",
    "# Getters: These are the methods used in Object-Oriented Programming (OOPS) which helps to access the private attributes from a class.\n",
    "# Setters: These are the methods used in OOPS feature which helps to set the value to private attributes in a class.\n",
    "class person:\n",
    "    \n",
    "    def __init__(self, age):\n",
    "        self.__age = age\n",
    "    \n",
    "    def get_age(self):\n",
    "        return self.__age\n",
    "    \n",
    "    def set_age(self, age):\n",
    "        if age > 0:\n",
    "            self.__age = age\n",
    "            return True\n",
    "        else :\n",
    "            return False"
   ]
  },
  {
   "cell_type": "code",
   "execution_count": 6,
   "id": "65b38840-64a3-4771-817b-20be4e65b010",
   "metadata": {},
   "outputs": [],
   "source": [
    "person_obj = person(25)"
   ]
  },
  {
   "cell_type": "code",
   "execution_count": 7,
   "id": "fb0fe1db-ea3f-47e6-be30-5425bbbe642c",
   "metadata": {},
   "outputs": [
    {
     "data": {
      "text/plain": [
       "25"
      ]
     },
     "execution_count": 7,
     "metadata": {},
     "output_type": "execute_result"
    }
   ],
   "source": [
    "person_obj.get_age()"
   ]
  },
  {
   "cell_type": "code",
   "execution_count": 8,
   "id": "1909c778-5769-47d2-b156-55fd693e373e",
   "metadata": {},
   "outputs": [
    {
     "data": {
      "text/plain": [
       "True"
      ]
     },
     "execution_count": 8,
     "metadata": {},
     "output_type": "execute_result"
    }
   ],
   "source": [
    "person_obj.set_age(35)"
   ]
  },
  {
   "cell_type": "code",
   "execution_count": 9,
   "id": "c32e28ab-7726-41c6-ba19-53c489d6af69",
   "metadata": {},
   "outputs": [
    {
     "data": {
      "text/plain": [
       "35"
      ]
     },
     "execution_count": 9,
     "metadata": {},
     "output_type": "execute_result"
    }
   ],
   "source": [
    "person_obj.get_age()"
   ]
  },
  {
   "cell_type": "code",
   "execution_count": null,
   "id": "9f2d3259-a06d-409e-88b0-b2df06a6df9e",
   "metadata": {},
   "outputs": [],
   "source": []
  },
  {
   "cell_type": "markdown",
   "id": "e415a9a5-d5be-40d1-9098-3957aa15f696",
   "metadata": {},
   "source": [
    "Q5) What is method overriding in python? Write a python code to demonstrate method overriding."
   ]
  },
  {
   "cell_type": "code",
   "execution_count": 15,
   "id": "8bf23acc-2202-4ed8-b3be-aa2c1b23fd70",
   "metadata": {},
   "outputs": [],
   "source": [
    "# Method overriding is an ability of any object-oriented programming language that allows a subclass or child class to provide a specific implementation of a method that is already provided by one of its super-classes or parent classes.\n",
    "class Automobile:\n",
    "    def Aa(self):\n",
    "        return(\"This is Automobile\")\n",
    "\n",
    "class Car(Automobile):\n",
    "    def Bb(self):\n",
    "        return(\"This is Car\")"
   ]
  },
  {
   "cell_type": "code",
   "execution_count": 19,
   "id": "8594258c-0fc2-41aa-8fb4-1f9a558db9af",
   "metadata": {},
   "outputs": [],
   "source": [
    "obj_auto = Automobile()\n",
    "obj_car = Car()"
   ]
  },
  {
   "cell_type": "code",
   "execution_count": 20,
   "id": "45ec05eb-1a8a-40a6-ac1e-2dc5567ec7e6",
   "metadata": {},
   "outputs": [
    {
     "data": {
      "text/plain": [
       "'This is Automobile'"
      ]
     },
     "execution_count": 20,
     "metadata": {},
     "output_type": "execute_result"
    }
   ],
   "source": [
    "obj_auto.Aa()"
   ]
  },
  {
   "cell_type": "code",
   "execution_count": 21,
   "id": "ef177b0c-012e-4f32-a166-987065fc9911",
   "metadata": {},
   "outputs": [
    {
     "data": {
      "text/plain": [
       "'This is Car'"
      ]
     },
     "execution_count": 21,
     "metadata": {},
     "output_type": "execute_result"
    }
   ],
   "source": [
    "obj_car.Bb()"
   ]
  },
  {
   "cell_type": "code",
   "execution_count": null,
   "id": "0d45a7ad-a055-4431-800e-51026e8667e3",
   "metadata": {},
   "outputs": [],
   "source": []
  }
 ],
 "metadata": {
  "kernelspec": {
   "display_name": "Python 3 (ipykernel)",
   "language": "python",
   "name": "python3"
  },
  "language_info": {
   "codemirror_mode": {
    "name": "ipython",
    "version": 3
   },
   "file_extension": ".py",
   "mimetype": "text/x-python",
   "name": "python",
   "nbconvert_exporter": "python",
   "pygments_lexer": "ipython3",
   "version": "3.10.8"
  }
 },
 "nbformat": 4,
 "nbformat_minor": 5
}
